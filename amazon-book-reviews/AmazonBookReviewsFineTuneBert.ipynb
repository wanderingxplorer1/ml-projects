{
  "nbformat": 4,
  "nbformat_minor": 0,
  "metadata": {
    "colab": {
      "provenance": [],
      "gpuType": "V100",
      "authorship_tag": "ABX9TyMb3OHPD0gjLBrq4D7U6wb5",
      "include_colab_link": true
    },
    "kernelspec": {
      "name": "python3",
      "display_name": "Python 3"
    },
    "language_info": {
      "name": "python"
    },
    "accelerator": "GPU"
  },
  "cells": [
    {
      "cell_type": "markdown",
      "metadata": {
        "id": "view-in-github",
        "colab_type": "text"
      },
      "source": [
        "<a href=\"https://colab.research.google.com/github/wanderingxplorer1/ml-projects/blob/main/amazon-book-reviews/AmazonBookReviewsFineTuneBert.ipynb\" target=\"_parent\"><img src=\"https://colab.research.google.com/assets/colab-badge.svg\" alt=\"Open In Colab\"/></a>"
      ]
    },
    {
      "cell_type": "markdown",
      "source": [
        "# Amazon Book Reviews\n",
        "Predicting the review rating of a book using reviews/ratings to train a DNN.\n",
        "The dataset can be found in https://www.kaggle.com/datasets/mohamedbakhet/amazon-books-reviews"
      ],
      "metadata": {
        "id": "_8xjjbbz68_W"
      }
    },
    {
      "cell_type": "code",
      "source": [
        "!pip install -q --upgrade keras-nlp\n",
        "!pip install -q --upgrade keras  # Upgrade to Keras 3."
      ],
      "metadata": {
        "id": "MM39JRNVoyX5"
      },
      "execution_count": null,
      "outputs": []
    },
    {
      "cell_type": "code",
      "source": [
        "import os\n",
        "os.environ[\"KERAS_BACKEND\"] = \"tensorflow\"\n",
        "\n",
        "import keras_nlp\n",
        "import keras\n",
        "import pandas as pd\n",
        "import tensorflow as tf\n",
        "import numpy as np\n",
        "import matplotlib.pyplot as plt\n",
        "\n",
        "# Use mixed precision to speed up all training in this guide.\n",
        "keras.mixed_precision.set_global_policy(\"mixed_float16\")"
      ],
      "metadata": {
        "id": "V6WeOyyBo5Hq"
      },
      "execution_count": null,
      "outputs": []
    },
    {
      "cell_type": "markdown",
      "source": [
        "# Download the data\n",
        "We will be using the Amazon book reviews dataset to create a model to predict\n",
        "the rating of a book given it's review.\n",
        "\n",
        "The dataset can be found in https://www.kaggle.com/datasets/mohamedbakhet/amazon-books-reviews"
      ],
      "metadata": {
        "id": "LPMlNOLv3mau"
      }
    },
    {
      "cell_type": "code",
      "source": [
        "from google.colab import drive\n",
        "drive.mount('/content/gdrive')"
      ],
      "metadata": {
        "colab": {
          "base_uri": "https://localhost:8080/"
        },
        "id": "rOtK_VVSxyde",
        "outputId": "c3d492e5-37bc-4a52-b887-ce865354f8db"
      },
      "execution_count": null,
      "outputs": [
        {
          "output_type": "stream",
          "name": "stdout",
          "text": [
            "Drive already mounted at /content/gdrive; to attempt to forcibly remount, call drive.mount(\"/content/gdrive\", force_remount=True).\n"
          ]
        }
      ]
    },
    {
      "cell_type": "code",
      "source": [
        "! mkdir ~/.kaggle\n",
        "! cp /content/gdrive/MyDrive/Kaggle/kaggle.json ~/.kaggle/kaggle.json\n",
        "! chmod 600 ~/.kaggle/kaggle.json"
      ],
      "metadata": {
        "colab": {
          "base_uri": "https://localhost:8080/"
        },
        "id": "L-SRixl4yDrl",
        "outputId": "1ff05c95-13f7-4e67-d83b-5589e01c495b"
      },
      "execution_count": null,
      "outputs": [
        {
          "output_type": "stream",
          "name": "stdout",
          "text": [
            "mkdir: cannot create directory ‘/root/.kaggle’: File exists\n"
          ]
        }
      ]
    },
    {
      "cell_type": "code",
      "source": [
        "! kaggle datasets download -d mohamedbakhet/amazon-books-reviews"
      ],
      "metadata": {
        "colab": {
          "base_uri": "https://localhost:8080/"
        },
        "id": "GPOrs3pxylcB",
        "outputId": "d5cec282-3c60-4d82-9ccd-b8f4ba171fbc"
      },
      "execution_count": null,
      "outputs": [
        {
          "output_type": "stream",
          "name": "stdout",
          "text": [
            "amazon-books-reviews.zip: Skipping, found more recently modified local copy (use --force to force download)\n"
          ]
        }
      ]
    },
    {
      "cell_type": "code",
      "source": [
        "! unzip amazon-books-reviews.zip\n",
        "book_ratings_csv = \"/content/Books_rating.csv\""
      ],
      "metadata": {
        "colab": {
          "base_uri": "https://localhost:8080/"
        },
        "id": "m2R5jVruy8Mm",
        "outputId": "a22e1ee3-aadc-491a-f200-8d5f3ddc9ce6"
      },
      "execution_count": null,
      "outputs": [
        {
          "output_type": "stream",
          "name": "stdout",
          "text": [
            "Archive:  amazon-books-reviews.zip\n",
            "replace Books_rating.csv? [y]es, [n]o, [A]ll, [N]one, [r]ename: n\n",
            "replace books_data.csv? [y]es, [n]o, [A]ll, [N]one, [r]ename: n\n"
          ]
        }
      ]
    },
    {
      "cell_type": "markdown",
      "source": [
        "# Prepare the dataset\n",
        "The dataset is very unbalanced. Most of the ratings are 4 or 5 stars.\n",
        "In order to balance it, we will create 5 datasets, one for each review rating\n",
        "and then combine them. We will sample each dataset with equal probablity\n",
        "to create the final dataset.\n",
        "\n",
        "Also, the ratings are floats from 1.0 5.0. We will map them to integers from\n",
        "0-4 so that we can use them as labels for a sparse_categorical_crossentropy loss\n",
        "so that we don't to one-hot encode them."
      ],
      "metadata": {
        "id": "0UVCdFx63siM"
      }
    },
    {
      "cell_type": "code",
      "source": [
        "BATCH_SIZE = 32\n",
        "TRAIN_SIZE = 128000\n",
        "VAL_SIZE = 12800\n",
        "TEST_SIZE = 12800\n",
        "\n",
        "dataset = tf.data.experimental.make_csv_dataset(book_ratings_csv,\n",
        "                                                batch_size=BATCH_SIZE,\n",
        "                                                select_columns=[\"review/summary\", \"review/score\"],\n",
        "                                                label_name=\"review/score\")\n",
        "dataset1 = dataset.unbatch().filter(lambda x, y : tf.equal(y, 1.0))\n",
        "dataset2 = dataset.unbatch().filter(lambda x, y : tf.equal(y, 2.0))\n",
        "dataset3 = dataset.unbatch().filter(lambda x, y : tf.equal(y, 3.0))\n",
        "dataset4 = dataset.unbatch().filter(lambda x, y : tf.equal(y, 4.0))\n",
        "dataset5 = dataset.unbatch().filter(lambda x, y : tf.equal(y, 5.0))\n",
        "\n",
        "books_dataset = tf.data.Dataset.sample_from_datasets(\n",
        "    [dataset1, dataset2, dataset3, dataset4, dataset5], stop_on_empty_dataset=True)\n",
        "\n",
        "# Extract out the review from the OrderedDict.\n",
        "# Change labels from 1.0-5.0 to 0-4 so that we can use them as labels without\n",
        "# have to one-hot encode them.\n",
        "books_dataset = books_dataset.map(lambda x, y : (x['review/summary'], int(y)-1))\n",
        "train_ds = books_dataset.take(TRAIN_SIZE).batch(BATCH_SIZE)\n",
        "val_ds = books_dataset.take(VAL_SIZE).batch(BATCH_SIZE)\n",
        "test_ds = books_dataset.take(TEST_SIZE).batch(BATCH_SIZE)\n",
        "\n",
        "for batch in test_ds.take(1):\n",
        "  print(batch)"
      ],
      "metadata": {
        "colab": {
          "base_uri": "https://localhost:8080/"
        },
        "id": "vT0HdQw3sBAQ",
        "outputId": "605b04de-29aa-46dd-dc16-352f5665a643"
      },
      "execution_count": null,
      "outputs": [
        {
          "output_type": "stream",
          "name": "stdout",
          "text": [
            "(<tf.Tensor: shape=(32,), dtype=string, numpy=\n",
            "array([b'Yet another post-apocalyptic tale...',\n",
            "       b'Marshall Hollenzer is Driving', b'tough going',\n",
            "       b'Does not match picture.',\n",
            "       b\"This book is good but I wouldn't call it great.\",\n",
            "       b'Pseudo-nihilistic garbage. A waste of paper and ink.',\n",
            "       b'Not Good Enough', b'Turn on to this radio book.',\n",
            "       b'The Scarlet Letter', b'Frankenstein is NO Odd Thomas',\n",
            "       b'Nasty book, nasty woman', b'weak advice', b'Great classic',\n",
            "       b'Intimate Enemy, Images and Voices of the Rwandan Genocide',\n",
            "       b'nice eye candy, but not as handy as the other guides',\n",
            "       b'Startlingly overrated (in my opinion, anyway)', b'tough going',\n",
            "       b'I really liked this book', b'Scary Stories',\n",
            "       b'We could all use a little plain and simple in our lives.',\n",
            "       b\"I'm gonna get blasted for this, but...\",\n",
            "       b\"Reveiw on Jack Kerovac's The Dharma Bums\",\n",
            "       b\"Stephen Gammel's illustrations are creepy and haunting -- love it!\",\n",
            "       b\"Romeo&Juliet's tragedy\", b'Whispers of the Dead',\n",
            "       b'Disappointing',\n",
            "       b'If you like SF this is the one book you should read',\n",
            "       b'Not Free SF Reader', b'Old-fashioned romance',\n",
            "       b'Should not be a requirement in high school',\n",
            "       b'This version of the standard is outdated', b'A top reference'],\n",
            "      dtype=object)>, <tf.Tensor: shape=(32,), dtype=int32, numpy=\n",
            "array([3, 4, 1, 0, 1, 0, 2, 4, 2, 2, 0, 0, 3, 3, 3, 1, 1, 2, 2, 4, 1, 0,\n",
            "       4, 2, 3, 1, 4, 3, 2, 0, 2, 4], dtype=int32)>)\n"
          ]
        }
      ]
    },
    {
      "cell_type": "code",
      "source": [
        "classifier = keras_nlp.models.BertClassifier.from_preset(\"bert_tiny_en_uncased\", num_classes=5)\n",
        "# Note: batched inputs expected so must wrap string in iterable\n",
        "classifier.predict([\"A FAST PACED , FIRST RATE MUST READ STORY!!!\"])"
      ],
      "metadata": {
        "colab": {
          "base_uri": "https://localhost:8080/"
        },
        "id": "9V0Zft80pO7x",
        "outputId": "7837fdea-fbc6-446e-b191-b8af41e893e1"
      },
      "execution_count": null,
      "outputs": [
        {
          "output_type": "stream",
          "name": "stdout",
          "text": [
            "\u001b[1m1/1\u001b[0m \u001b[32m━━━━━━━━━━━━━━━━━━━━\u001b[0m\u001b[37m\u001b[0m \u001b[1m2s\u001b[0m 2s/step\n"
          ]
        },
        {
          "output_type": "execute_result",
          "data": {
            "text/plain": [
              "array([[ 0.2483  , -0.1147  , -0.005833,  0.1311  ,  0.01778 ]],\n",
              "      dtype=float16)"
            ]
          },
          "metadata": {},
          "execution_count": 22
        }
      ]
    },
    {
      "cell_type": "code",
      "source": [
        "classifier.evaluate(test_ds)"
      ],
      "metadata": {
        "colab": {
          "base_uri": "https://localhost:8080/"
        },
        "id": "yIutF4TYpPgE",
        "outputId": "feca9896-d47f-4112-84db-bdd2632c5a00"
      },
      "execution_count": null,
      "outputs": [
        {
          "output_type": "stream",
          "name": "stdout",
          "text": [
            "\u001b[1m400/400\u001b[0m \u001b[32m━━━━━━━━━━━━━━━━━━━━\u001b[0m\u001b[37m\u001b[0m \u001b[1m19s\u001b[0m 40ms/step - loss: 1.6133 - sparse_categorical_accuracy: 0.1999\n"
          ]
        },
        {
          "output_type": "execute_result",
          "data": {
            "text/plain": [
              "[1.6131274700164795, 0.20250000059604645]"
            ]
          },
          "metadata": {},
          "execution_count": 23
        }
      ]
    },
    {
      "cell_type": "code",
      "source": [
        "history = classifier.fit(train_ds, validation_data=[val_ds], epochs=40)"
      ],
      "metadata": {
        "id": "6BsRztrCbc2Z",
        "colab": {
          "base_uri": "https://localhost:8080/"
        },
        "outputId": "36ada936-1651-4587-d029-98c0ac5917eb"
      },
      "execution_count": null,
      "outputs": [
        {
          "output_type": "stream",
          "name": "stdout",
          "text": [
            "Epoch 1/40\n",
            "\u001b[1m4000/4000\u001b[0m \u001b[32m━━━━━━━━━━━━━━━━━━━━\u001b[0m\u001b[37m\u001b[0m \u001b[1m146s\u001b[0m 28ms/step - loss: 1.4215 - sparse_categorical_accuracy: 0.3674 - val_loss: 1.2850 - val_sparse_categorical_accuracy: 0.4447\n",
            "Epoch 2/40\n",
            "\u001b[1m4000/4000\u001b[0m \u001b[32m━━━━━━━━━━━━━━━━━━━━\u001b[0m\u001b[37m\u001b[0m \u001b[1m141s\u001b[0m 35ms/step - loss: 1.2426 - sparse_categorical_accuracy: 0.4621 - val_loss: 1.2305 - val_sparse_categorical_accuracy: 0.4727\n",
            "Epoch 3/40\n",
            "\u001b[1m4000/4000\u001b[0m \u001b[32m━━━━━━━━━━━━━━━━━━━━\u001b[0m\u001b[37m\u001b[0m \u001b[1m132s\u001b[0m 33ms/step - loss: 1.1932 - sparse_categorical_accuracy: 0.4863 - val_loss: 1.1986 - val_sparse_categorical_accuracy: 0.4913\n",
            "Epoch 4/40\n",
            "\u001b[1m4000/4000\u001b[0m \u001b[32m━━━━━━━━━━━━━━━━━━━━\u001b[0m\u001b[37m\u001b[0m \u001b[1m142s\u001b[0m 35ms/step - loss: 1.1535 - sparse_categorical_accuracy: 0.5061 - val_loss: 1.1738 - val_sparse_categorical_accuracy: 0.5047\n",
            "Epoch 5/40\n",
            "\u001b[1m4000/4000\u001b[0m \u001b[32m━━━━━━━━━━━━━━━━━━━━\u001b[0m\u001b[37m\u001b[0m \u001b[1m132s\u001b[0m 33ms/step - loss: 1.1213 - sparse_categorical_accuracy: 0.5243 - val_loss: 1.1454 - val_sparse_categorical_accuracy: 0.5274\n",
            "Epoch 6/40\n",
            "\u001b[1m4000/4000\u001b[0m \u001b[32m━━━━━━━━━━━━━━━━━━━━\u001b[0m\u001b[37m\u001b[0m \u001b[1m112s\u001b[0m 28ms/step - loss: 1.0921 - sparse_categorical_accuracy: 0.5400 - val_loss: 1.1142 - val_sparse_categorical_accuracy: 0.5384\n",
            "Epoch 7/40\n",
            "\u001b[1m4000/4000\u001b[0m \u001b[32m━━━━━━━━━━━━━━━━━━━━\u001b[0m\u001b[37m\u001b[0m \u001b[1m163s\u001b[0m 40ms/step - loss: 1.0652 - sparse_categorical_accuracy: 0.5511 - val_loss: 1.0844 - val_sparse_categorical_accuracy: 0.5545\n",
            "Epoch 8/40\n",
            "\u001b[1m4000/4000\u001b[0m \u001b[32m━━━━━━━━━━━━━━━━━━━━\u001b[0m\u001b[37m\u001b[0m \u001b[1m183s\u001b[0m 45ms/step - loss: 1.0324 - sparse_categorical_accuracy: 0.5688 - val_loss: 1.0582 - val_sparse_categorical_accuracy: 0.5672\n",
            "Epoch 9/40\n",
            "\u001b[1m4000/4000\u001b[0m \u001b[32m━━━━━━━━━━━━━━━━━━━━\u001b[0m\u001b[37m\u001b[0m \u001b[1m127s\u001b[0m 31ms/step - loss: 1.0120 - sparse_categorical_accuracy: 0.5794 - val_loss: 1.0278 - val_sparse_categorical_accuracy: 0.5856\n",
            "Epoch 10/40\n",
            "\u001b[1m4000/4000\u001b[0m \u001b[32m━━━━━━━━━━━━━━━━━━━━\u001b[0m\u001b[37m\u001b[0m \u001b[1m142s\u001b[0m 35ms/step - loss: 0.9834 - sparse_categorical_accuracy: 0.5937 - val_loss: 0.9987 - val_sparse_categorical_accuracy: 0.5989\n",
            "Epoch 11/40\n",
            "\u001b[1m4000/4000\u001b[0m \u001b[32m━━━━━━━━━━━━━━━━━━━━\u001b[0m\u001b[37m\u001b[0m \u001b[1m139s\u001b[0m 34ms/step - loss: 0.9608 - sparse_categorical_accuracy: 0.6021 - val_loss: 0.9879 - val_sparse_categorical_accuracy: 0.6051\n",
            "Epoch 12/40\n",
            "\u001b[1m4000/4000\u001b[0m \u001b[32m━━━━━━━━━━━━━━━━━━━━\u001b[0m\u001b[37m\u001b[0m \u001b[1m146s\u001b[0m 36ms/step - loss: 0.9377 - sparse_categorical_accuracy: 0.6118 - val_loss: 0.9555 - val_sparse_categorical_accuracy: 0.6193\n",
            "Epoch 13/40\n",
            "\u001b[1m4000/4000\u001b[0m \u001b[32m━━━━━━━━━━━━━━━━━━━━\u001b[0m\u001b[37m\u001b[0m \u001b[1m145s\u001b[0m 36ms/step - loss: 0.9158 - sparse_categorical_accuracy: 0.6214 - val_loss: 0.9314 - val_sparse_categorical_accuracy: 0.6320\n",
            "Epoch 14/40\n",
            "\u001b[1m4000/4000\u001b[0m \u001b[32m━━━━━━━━━━━━━━━━━━━━\u001b[0m\u001b[37m\u001b[0m \u001b[1m135s\u001b[0m 33ms/step - loss: 0.8956 - sparse_categorical_accuracy: 0.6301 - val_loss: 0.9024 - val_sparse_categorical_accuracy: 0.6406\n",
            "Epoch 15/40\n",
            "\u001b[1m4000/4000\u001b[0m \u001b[32m━━━━━━━━━━━━━━━━━━━━\u001b[0m\u001b[37m\u001b[0m \u001b[1m138s\u001b[0m 34ms/step - loss: 0.8749 - sparse_categorical_accuracy: 0.6402 - val_loss: 0.8761 - val_sparse_categorical_accuracy: 0.6552\n",
            "Epoch 16/40\n",
            "\u001b[1m4000/4000\u001b[0m \u001b[32m━━━━━━━━━━━━━━━━━━━━\u001b[0m\u001b[37m\u001b[0m \u001b[1m145s\u001b[0m 36ms/step - loss: 0.8544 - sparse_categorical_accuracy: 0.6490 - val_loss: 0.8672 - val_sparse_categorical_accuracy: 0.6587\n",
            "Epoch 17/40\n",
            "\u001b[1m4000/4000\u001b[0m \u001b[32m━━━━━━━━━━━━━━━━━━━━\u001b[0m\u001b[37m\u001b[0m \u001b[1m133s\u001b[0m 33ms/step - loss: 0.8378 - sparse_categorical_accuracy: 0.6576 - val_loss: 0.8527 - val_sparse_categorical_accuracy: 0.6644\n",
            "Epoch 18/40\n",
            "\u001b[1m4000/4000\u001b[0m \u001b[32m━━━━━━━━━━━━━━━━━━━━\u001b[0m\u001b[37m\u001b[0m \u001b[1m142s\u001b[0m 35ms/step - loss: 0.8191 - sparse_categorical_accuracy: 0.6660 - val_loss: 0.8264 - val_sparse_categorical_accuracy: 0.6770\n",
            "Epoch 19/40\n",
            "\u001b[1m4000/4000\u001b[0m \u001b[32m━━━━━━━━━━━━━━━━━━━━\u001b[0m\u001b[37m\u001b[0m \u001b[1m133s\u001b[0m 33ms/step - loss: 0.8059 - sparse_categorical_accuracy: 0.6702 - val_loss: 0.7941 - val_sparse_categorical_accuracy: 0.6914\n",
            "Epoch 20/40\n",
            "\u001b[1m4000/4000\u001b[0m \u001b[32m━━━━━━━━━━━━━━━━━━━━\u001b[0m\u001b[37m\u001b[0m \u001b[1m139s\u001b[0m 34ms/step - loss: 0.7928 - sparse_categorical_accuracy: 0.6747 - val_loss: 0.8028 - val_sparse_categorical_accuracy: 0.6893\n",
            "Epoch 21/40\n",
            "\u001b[1m4000/4000\u001b[0m \u001b[32m━━━━━━━━━━━━━━━━━━━━\u001b[0m\u001b[37m\u001b[0m \u001b[1m130s\u001b[0m 32ms/step - loss: 0.7734 - sparse_categorical_accuracy: 0.6826 - val_loss: 0.7612 - val_sparse_categorical_accuracy: 0.7068\n",
            "Epoch 22/40\n",
            "\u001b[1m4000/4000\u001b[0m \u001b[32m━━━━━━━━━━━━━━━━━━━━\u001b[0m\u001b[37m\u001b[0m \u001b[1m144s\u001b[0m 36ms/step - loss: 0.7586 - sparse_categorical_accuracy: 0.6898 - val_loss: 0.7640 - val_sparse_categorical_accuracy: 0.7029\n",
            "Epoch 23/40\n",
            "\u001b[1m4000/4000\u001b[0m \u001b[32m━━━━━━━━━━━━━━━━━━━━\u001b[0m\u001b[37m\u001b[0m \u001b[1m110s\u001b[0m 27ms/step - loss: 0.7466 - sparse_categorical_accuracy: 0.6946 - val_loss: 0.7643 - val_sparse_categorical_accuracy: 0.7101\n",
            "Epoch 24/40\n",
            "\u001b[1m4000/4000\u001b[0m \u001b[32m━━━━━━━━━━━━━━━━━━━━\u001b[0m\u001b[37m\u001b[0m \u001b[1m151s\u001b[0m 37ms/step - loss: 0.7334 - sparse_categorical_accuracy: 0.6995 - val_loss: 0.7267 - val_sparse_categorical_accuracy: 0.7198\n",
            "Epoch 25/40\n",
            "\u001b[1m4000/4000\u001b[0m \u001b[32m━━━━━━━━━━━━━━━━━━━━\u001b[0m\u001b[37m\u001b[0m \u001b[1m183s\u001b[0m 45ms/step - loss: 0.7235 - sparse_categorical_accuracy: 0.7037 - val_loss: 0.7230 - val_sparse_categorical_accuracy: 0.7268\n",
            "Epoch 26/40\n",
            "\u001b[1m4000/4000\u001b[0m \u001b[32m━━━━━━━━━━━━━━━━━━━━\u001b[0m\u001b[37m\u001b[0m \u001b[1m162s\u001b[0m 40ms/step - loss: 0.7133 - sparse_categorical_accuracy: 0.7089 - val_loss: 0.7069 - val_sparse_categorical_accuracy: 0.7371\n",
            "Epoch 27/40\n",
            "\u001b[1m4000/4000\u001b[0m \u001b[32m━━━━━━━━━━━━━━━━━━━━\u001b[0m\u001b[37m\u001b[0m \u001b[1m146s\u001b[0m 36ms/step - loss: 0.7019 - sparse_categorical_accuracy: 0.7138 - val_loss: 0.7114 - val_sparse_categorical_accuracy: 0.7308\n",
            "Epoch 28/40\n",
            "\u001b[1m4000/4000\u001b[0m \u001b[32m━━━━━━━━━━━━━━━━━━━━\u001b[0m\u001b[37m\u001b[0m \u001b[1m140s\u001b[0m 35ms/step - loss: 0.6920 - sparse_categorical_accuracy: 0.7178 - val_loss: 0.6744 - val_sparse_categorical_accuracy: 0.7457\n",
            "Epoch 29/40\n",
            "\u001b[1m4000/4000\u001b[0m \u001b[32m━━━━━━━━━━━━━━━━━━━━\u001b[0m\u001b[37m\u001b[0m \u001b[1m191s\u001b[0m 48ms/step - loss: 0.6827 - sparse_categorical_accuracy: 0.7199 - val_loss: 0.6729 - val_sparse_categorical_accuracy: 0.7405\n",
            "Epoch 30/40\n",
            "\u001b[1m4000/4000\u001b[0m \u001b[32m━━━━━━━━━━━━━━━━━━━━\u001b[0m\u001b[37m\u001b[0m \u001b[1m145s\u001b[0m 36ms/step - loss: 0.6751 - sparse_categorical_accuracy: 0.7247 - val_loss: 0.6619 - val_sparse_categorical_accuracy: 0.7413\n",
            "Epoch 31/40\n",
            "\u001b[1m4000/4000\u001b[0m \u001b[32m━━━━━━━━━━━━━━━━━━━━\u001b[0m\u001b[37m\u001b[0m \u001b[1m144s\u001b[0m 36ms/step - loss: 0.6658 - sparse_categorical_accuracy: 0.7279 - val_loss: 0.6629 - val_sparse_categorical_accuracy: 0.7482\n",
            "Epoch 32/40\n",
            "\u001b[1m4000/4000\u001b[0m \u001b[32m━━━━━━━━━━━━━━━━━━━━\u001b[0m\u001b[37m\u001b[0m \u001b[1m145s\u001b[0m 36ms/step - loss: 0.6558 - sparse_categorical_accuracy: 0.7326 - val_loss: 0.6368 - val_sparse_categorical_accuracy: 0.7598\n",
            "Epoch 33/40\n",
            "\u001b[1m4000/4000\u001b[0m \u001b[32m━━━━━━━━━━━━━━━━━━━━\u001b[0m\u001b[37m\u001b[0m \u001b[1m193s\u001b[0m 48ms/step - loss: 0.6460 - sparse_categorical_accuracy: 0.7369 - val_loss: 0.6424 - val_sparse_categorical_accuracy: 0.7583\n",
            "Epoch 34/40\n",
            "\u001b[1m4000/4000\u001b[0m \u001b[32m━━━━━━━━━━━━━━━━━━━━\u001b[0m\u001b[37m\u001b[0m \u001b[1m140s\u001b[0m 35ms/step - loss: 0.6388 - sparse_categorical_accuracy: 0.7393 - val_loss: 0.6163 - val_sparse_categorical_accuracy: 0.7710\n",
            "Epoch 35/40\n",
            "\u001b[1m4000/4000\u001b[0m \u001b[32m━━━━━━━━━━━━━━━━━━━━\u001b[0m\u001b[37m\u001b[0m \u001b[1m111s\u001b[0m 28ms/step - loss: 0.6331 - sparse_categorical_accuracy: 0.7433 - val_loss: 0.5987 - val_sparse_categorical_accuracy: 0.7779\n",
            "Epoch 36/40\n",
            "\u001b[1m4000/4000\u001b[0m \u001b[32m━━━━━━━━━━━━━━━━━━━━\u001b[0m\u001b[37m\u001b[0m \u001b[1m163s\u001b[0m 40ms/step - loss: 0.6206 - sparse_categorical_accuracy: 0.7471 - val_loss: 0.6110 - val_sparse_categorical_accuracy: 0.7719\n",
            "Epoch 37/40\n",
            "\u001b[1m4000/4000\u001b[0m \u001b[32m━━━━━━━━━━━━━━━━━━━━\u001b[0m\u001b[37m\u001b[0m \u001b[1m167s\u001b[0m 41ms/step - loss: 0.6183 - sparse_categorical_accuracy: 0.7479 - val_loss: 0.6100 - val_sparse_categorical_accuracy: 0.7698\n",
            "Epoch 38/40\n",
            "\u001b[1m4000/4000\u001b[0m \u001b[32m━━━━━━━━━━━━━━━━━━━━\u001b[0m\u001b[37m\u001b[0m \u001b[1m129s\u001b[0m 32ms/step - loss: 0.6086 - sparse_categorical_accuracy: 0.7520 - val_loss: 0.5890 - val_sparse_categorical_accuracy: 0.7820\n",
            "Epoch 39/40\n",
            "\u001b[1m4000/4000\u001b[0m \u001b[32m━━━━━━━━━━━━━━━━━━━━\u001b[0m\u001b[37m\u001b[0m \u001b[1m156s\u001b[0m 39ms/step - loss: 0.6056 - sparse_categorical_accuracy: 0.7538 - val_loss: 0.5705 - val_sparse_categorical_accuracy: 0.7838\n",
            "Epoch 40/40\n",
            "\u001b[1m4000/4000\u001b[0m \u001b[32m━━━━━━━━━━━━━━━━━━━━\u001b[0m\u001b[37m\u001b[0m \u001b[1m129s\u001b[0m 32ms/step - loss: 0.5970 - sparse_categorical_accuracy: 0.7581 - val_loss: 0.5765 - val_sparse_categorical_accuracy: 0.7907\n"
          ]
        }
      ]
    },
    {
      "cell_type": "code",
      "source": [
        "def plot_graphs(history, metric):\n",
        "    plt.plot(history.history[metric])\n",
        "    plt.plot(history.history[f'val_{metric}'])\n",
        "    plt.xlabel(\"Epochs\")\n",
        "    plt.ylabel(metric)\n",
        "    plt.legend([metric, f'val_{metric}'])\n",
        "    plt.show()\n",
        "\n",
        "plot_graphs(history, \"loss\")\n",
        "plot_graphs(history, \"sparse_categorical_accuracy\")"
      ],
      "metadata": {
        "colab": {
          "base_uri": "https://localhost:8080/",
          "height": 881
        },
        "id": "nDZtrRbwKD3u",
        "outputId": "e72f483b-a3e0-43b7-c74d-3563cd19411c"
      },
      "execution_count": null,
      "outputs": [
        {
          "output_type": "display_data",
          "data": {
            "text/plain": [
              "<Figure size 640x480 with 1 Axes>"
            ],
            "image/png": "[encoded data removed]"
          },
          "metadata": {}
        },
        {
          "output_type": "display_data",
          "data": {
            "text/plain": [
              "<Figure size 640x480 with 1 Axes>"
            ],
            "image/png": "[encoded data removed]"
          },
          "metadata": {}
        }
      ]
    },
    {
      "cell_type": "code",
      "source": [
        "classifier.predict([\"A FAST PACED , FIRST RATE MUST READ STORY!!!\"])"
      ],
      "metadata": {
        "colab": {
          "base_uri": "https://localhost:8080/"
        },
        "id": "lFsNKNL999_k",
        "outputId": "00d493d8-e56f-414c-e133-2dcc01d754cb"
      },
      "execution_count": null,
      "outputs": [
        {
          "output_type": "stream",
          "name": "stdout",
          "text": [
            "\u001b[1m1/1\u001b[0m \u001b[32m━━━━━━━━━━━━━━━━━━━━\u001b[0m\u001b[37m\u001b[0m \u001b[1m0s\u001b[0m 391ms/step\n"
          ]
        },
        {
          "output_type": "execute_result",
          "data": {
            "text/plain": [
              "array([[-3.629, -2.443, -0.446,  2.041,  4.4  ]], dtype=float16)"
            ]
          },
          "metadata": {},
          "execution_count": 26
        }
      ]
    },
    {
      "cell_type": "code",
      "source": [
        "classifier.evaluate(test_ds)"
      ],
      "metadata": {
        "colab": {
          "base_uri": "https://localhost:8080/"
        },
        "id": "Lqs6jodd-Fhb",
        "outputId": "33fad137-7b35-4cc7-e2cd-ac49e6a08601"
      },
      "execution_count": null,
      "outputs": [
        {
          "output_type": "stream",
          "name": "stdout",
          "text": [
            "\u001b[1m400/400\u001b[0m \u001b[32m━━━━━━━━━━━━━━━━━━━━\u001b[0m\u001b[37m\u001b[0m \u001b[1m11s\u001b[0m 24ms/step - loss: 0.5406 - sparse_categorical_accuracy: 0.7955\n"
          ]
        },
        {
          "output_type": "execute_result",
          "data": {
            "text/plain": [
              "[0.5740461349487305, 0.7928906083106995]"
            ]
          },
          "metadata": {},
          "execution_count": 27
        }
      ]
    },
    {
      "cell_type": "code",
      "source": [
        "classifier.save('amazon_book_reviews.keras')"
      ],
      "metadata": {
        "id": "_AWo8cUWhV4O"
      },
      "execution_count": null,
      "outputs": []
    },
    {
      "cell_type": "code",
      "source": [
        "amazon_model = tf.keras.models.load_model('amazon_book_reviews.keras')\n"
      ],
      "metadata": {
        "colab": {
          "base_uri": "https://localhost:8080/"
        },
        "id": "5X-THidjVQKW",
        "outputId": "6faf49c8-c02f-43d2-900e-440bd521350b"
      },
      "execution_count": null,
      "outputs": [
        {
          "output_type": "stream",
          "name": "stderr",
          "text": [
            "/usr/local/lib/python3.10/dist-packages/keras/src/saving/serialization_lib.py:727: UserWarning: `compile()` was not called as part of model loading because the model's `compile()` method is custom. All subclassed Models that have `compile()` overridden should also override `get_compile_config()` and `compile_from_config(config)`. Alternatively, you can call `compile()` manually after loading.\n",
            "  instance.compile_from_config(compile_config)\n",
            "/usr/local/lib/python3.10/dist-packages/keras/src/saving/saving_lib.py:396: UserWarning: Skipping variable loading for optimizer 'loss_scale_optimizer', because it has 4 variables whereas the saved optimizer has 88 variables. \n",
            "  trackable.load_own_variables(weights_store.get(inner_path))\n",
            "/usr/local/lib/python3.10/dist-packages/keras/src/saving/saving_lib.py:396: UserWarning: Skipping variable loading for optimizer 'adam', because it has 2 variables whereas the saved optimizer has 84 variables. \n",
            "  trackable.load_own_variables(weights_store.get(inner_path))\n"
          ]
        }
      ]
    },
    {
      "cell_type": "code",
      "source": [
        "amazon_model.predict([\"A FAST PACED , FIRST RATE MUST READ STORY!!!\"])"
      ],
      "metadata": {
        "colab": {
          "base_uri": "https://localhost:8080/"
        },
        "id": "jyLR65dkVYzV",
        "outputId": "0a445219-812e-4404-8d3e-1e5ec0422e25"
      },
      "execution_count": null,
      "outputs": [
        {
          "output_type": "stream",
          "name": "stdout",
          "text": [
            "\u001b[1m1/1\u001b[0m \u001b[32m━━━━━━━━━━━━━━━━━━━━\u001b[0m\u001b[37m\u001b[0m \u001b[1m2s\u001b[0m 2s/step\n"
          ]
        },
        {
          "output_type": "execute_result",
          "data": {
            "text/plain": [
              "array([[-3.629, -2.443, -0.446,  2.041,  4.4  ]], dtype=float16)"
            ]
          },
          "metadata": {},
          "execution_count": 30
        }
      ]
    }
  ]
}