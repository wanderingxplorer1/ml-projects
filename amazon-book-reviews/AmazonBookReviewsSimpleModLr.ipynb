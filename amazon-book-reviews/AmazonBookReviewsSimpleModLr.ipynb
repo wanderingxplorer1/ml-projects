{
  "nbformat": 4,
  "nbformat_minor": 0,
  "metadata": {
    "colab": {
      "provenance": [],
      "gpuType": "V100",
      "authorship_tag": "ABX9TyO2KhWkPp/ICCAKdssHorMN",
      "include_colab_link": true
    },
    "kernelspec": {
      "name": "python3",
      "display_name": "Python 3"
    },
    "language_info": {
      "name": "python"
    },
    "accelerator": "GPU"
  },
  "cells": [
    {
      "cell_type": "markdown",
      "metadata": {
        "id": "view-in-github",
        "colab_type": "text"
      },
      "source": [
        "<a href=\"https://colab.research.google.com/github/wanderingxplorer1/ml-projects/blob/main/amazon-book-reviews/AmazonBookReviewsSimpleModLr.ipynb\" target=\"_parent\"><img src=\"https://colab.research.google.com/assets/colab-badge.svg\" alt=\"Open In Colab\"/></a>"
      ]
    },
    {
      "cell_type": "markdown",
      "source": [
        "# Amazon Book Reviews\n",
        "Predicting the review rating of a book using reviews/ratings to train a DNN.\n",
        "The dataset can be found in https://www.kaggle.com/datasets/mohamedbakhet/amazon-books-reviews"
      ],
      "metadata": {
        "id": "_8xjjbbz68_W"
      }
    },
    {
      "cell_type": "code",
      "source": [
        "import os\n",
        "import keras\n",
        "import tensorflow as tf\n",
        "import numpy as np\n",
        "from tensorflow.keras.layers import Dense, Embedding, Flatten, IntegerLookup, Dropout\n",
        "from tensorflow.keras import Model\n",
        "from tensorflow.keras import Input\n",
        "import matplotlib.pyplot as plt"
      ],
      "metadata": {
        "id": "V6WeOyyBo5Hq"
      },
      "execution_count": null,
      "outputs": []
    },
    {
      "cell_type": "markdown",
      "source": [
        "# Download the data\n",
        "We will be using the Amazon book reviews dataset to create a model to predict\n",
        "the rating of a book given it's review.\n",
        "\n",
        "The dataset can be found in https://www.kaggle.com/datasets/mohamedbakhet/amazon-books-reviews"
      ],
      "metadata": {
        "id": "LPMlNOLv3mau"
      }
    },
    {
      "cell_type": "code",
      "source": [
        "from google.colab import drive\n",
        "drive.mount('/content/gdrive')"
      ],
      "metadata": {
        "colab": {
          "base_uri": "https://localhost:8080/"
        },
        "id": "rOtK_VVSxyde",
        "outputId": "43caee2d-fb1d-4ba2-f62c-88c6ea6215bf"
      },
      "execution_count": null,
      "outputs": [
        {
          "output_type": "stream",
          "name": "stdout",
          "text": [
            "Mounted at /content/gdrive\n"
          ]
        }
      ]
    },
    {
      "cell_type": "code",
      "source": [
        "! mkdir ~/.kaggle\n",
        "! cp /content/gdrive/MyDrive/Kaggle/kaggle.json ~/.kaggle/kaggle.json\n",
        "! chmod 600 ~/.kaggle/kaggle.json"
      ],
      "metadata": {
        "id": "L-SRixl4yDrl"
      },
      "execution_count": null,
      "outputs": []
    },
    {
      "cell_type": "code",
      "source": [
        "! kaggle datasets download -d mohamedbakhet/amazon-books-reviews"
      ],
      "metadata": {
        "colab": {
          "base_uri": "https://localhost:8080/"
        },
        "id": "GPOrs3pxylcB",
        "outputId": "16738ddd-e649-4bf5-a4ce-4ed107cbded8"
      },
      "execution_count": null,
      "outputs": [
        {
          "output_type": "stream",
          "name": "stdout",
          "text": [
            "Downloading amazon-books-reviews.zip to /content\n",
            "100% 1.06G/1.06G [00:29<00:00, 45.5MB/s]\n",
            "100% 1.06G/1.06G [00:29<00:00, 39.0MB/s]\n"
          ]
        }
      ]
    },
    {
      "cell_type": "code",
      "source": [
        "! unzip amazon-books-reviews.zip\n",
        "book_ratings_csv = \"/content/Books_rating.csv\""
      ],
      "metadata": {
        "colab": {
          "base_uri": "https://localhost:8080/"
        },
        "id": "m2R5jVruy8Mm",
        "outputId": "ec1ee430-048c-4822-b106-8bf2744c182e"
      },
      "execution_count": null,
      "outputs": [
        {
          "output_type": "stream",
          "name": "stdout",
          "text": [
            "Archive:  amazon-books-reviews.zip\n",
            "  inflating: Books_rating.csv        \n",
            "  inflating: books_data.csv          \n"
          ]
        }
      ]
    },
    {
      "cell_type": "markdown",
      "source": [
        "# Prepare the dataset\n",
        "The dataset is very unbalanced. Most of the ratings are 4 or 5 stars.\n",
        "In order to balance it, we will create 5 datasets, one for each review rating\n",
        "and then combine them. We will sample each dataset with equal probablity\n",
        "to create the final dataset.\n",
        "\n",
        "Also, the ratings are floats from 1.0 5.0. We will map them to integers from\n",
        "0-4 so that we can use them as labels for a sparse_categorical_crossentropy loss\n",
        "so that we don't to one-hot encode them."
      ],
      "metadata": {
        "id": "0UVCdFx63siM"
      }
    },
    {
      "cell_type": "code",
      "source": [
        "BATCH_SIZE = 32\n",
        "TRAIN_SIZE = 128000\n",
        "VAL_SIZE = 12800\n",
        "TEST_SIZE = 12800\n",
        "\n",
        "dataset = tf.data.experimental.make_csv_dataset(book_ratings_csv,\n",
        "                                                batch_size=BATCH_SIZE,\n",
        "                                                select_columns=[\"review/summary\", \"review/score\"],\n",
        "                                                label_name=\"review/score\")\n",
        "dataset1 = dataset.unbatch().filter(lambda x, y : tf.equal(y, 1.0))\n",
        "dataset2 = dataset.unbatch().filter(lambda x, y : tf.equal(y, 2.0))\n",
        "dataset3 = dataset.unbatch().filter(lambda x, y : tf.equal(y, 3.0))\n",
        "dataset4 = dataset.unbatch().filter(lambda x, y : tf.equal(y, 4.0))\n",
        "dataset5 = dataset.unbatch().filter(lambda x, y : tf.equal(y, 5.0))\n",
        "\n",
        "books_dataset = tf.data.Dataset.sample_from_datasets(\n",
        "    [dataset1, dataset2, dataset3, dataset4, dataset5], stop_on_empty_dataset=True)\n",
        "\n",
        "# Extract out the review from the OrderedDict.\n",
        "# Change labels from 1.0-5.0 to 0-4 so that we can use them as labels without\n",
        "# have to one-hot encode them.\n",
        "books_dataset = books_dataset.map(lambda x, y : (x['review/summary'], int(y)-1))\n",
        "train_ds = books_dataset.take(TRAIN_SIZE).batch(BATCH_SIZE)\n",
        "val_ds = books_dataset.take(VAL_SIZE).batch(BATCH_SIZE)\n",
        "test_ds = books_dataset.take(TEST_SIZE).batch(BATCH_SIZE)\n",
        "\n",
        "for batch in test_ds.take(1):\n",
        "  print(batch)"
      ],
      "metadata": {
        "colab": {
          "base_uri": "https://localhost:8080/"
        },
        "id": "vT0HdQw3sBAQ",
        "outputId": "aeb2c0f6-8e85-4427-cb4d-85e6f4ee6a1c"
      },
      "execution_count": null,
      "outputs": [
        {
          "output_type": "stream",
          "name": "stdout",
          "text": [
            "(<tf.Tensor: shape=(32,), dtype=string, numpy=\n",
            "array([b'Nice collection of Julie Strain images', b'This is a classic?',\n",
            "       b'Tired Sci Fi Cliche',\n",
            "       b'&quot;Hallelujah!&quot; is what I said when I finished this book',\n",
            "       b'Why is kindle version so expensive???!',\n",
            "       b'Not very much depth or substance to this one',\n",
            "       b'Packed with info', b'so boring.....', b'Better than the first!',\n",
            "       b'Gold1 Gold1 and more Gold!', b'Very interesting, but sad.',\n",
            "       b'How a religion is Born!', b'Penguin clothbound classics',\n",
            "       b\"Asimov's early work his best\",\n",
            "       b'Anyone but Hauptmann - Red Herrings That Never Die',\n",
            "       b'worst book in the world!!!!!!!!!!!!!!!!!!!!!!!!!!!!!!!!!!!!',\n",
            "       b'Get foundation first', b'Great introduction to Jewish practices',\n",
            "       b'Lifetimes: Not ONLY about death', b'Another Koontz sucess',\n",
            "       b'thoroughly researched and readable', b'Self-Serving Message',\n",
            "       b'Long and boring', b'Do I have to give it a star?', b'Foundation',\n",
            "       b'A very readable classic', b'An all around good book',\n",
            "       b\"thought i'd try\", b'Very fun to read Thurber',\n",
            "       b\"Tess and Tom: Hardy's classic tale of a tragic beauty in rural Victorian Wessex is a great English novel\",\n",
            "       b'Irritating style, but a valuable insight', b\"Kaila's review\"],\n",
            "      dtype=object)>, <tf.Tensor: shape=(32,), dtype=int32, numpy=\n",
            "array([3, 0, 1, 0, 0, 1, 4, 1, 4, 4, 3, 4, 4, 3, 0, 0, 4, 3, 4, 2, 4, 0,\n",
            "       0, 0, 0, 4, 4, 2, 3, 4, 2, 2], dtype=int32)>)\n"
          ]
        }
      ]
    },
    {
      "cell_type": "code",
      "source": [
        "vectorize_ds = train_ds.map(lambda x, y: x)\n",
        "MAXLEN = 100\n",
        "NUM_WORDS = 5000\n",
        "EMBEDDING_DIM = 7\n",
        "vectorize_layer = tf.keras.layers.TextVectorization(\n",
        "  max_tokens=NUM_WORDS,\n",
        "  output_mode='int',\n",
        "  output_sequence_length=MAXLEN)\n",
        "vectorize_layer.adapt(vectorize_ds)"
      ],
      "metadata": {
        "id": "9V0Zft80pO7x"
      },
      "execution_count": null,
      "outputs": []
    },
    {
      "cell_type": "code",
      "source": [
        "vectorize_layer('Characters that are shallower than my kitchen sink')"
      ],
      "metadata": {
        "colab": {
          "base_uri": "https://localhost:8080/"
        },
        "id": "5IhfIOQK9JCx",
        "outputId": "1c16f3f8-90f6-476f-b5e6-fa2f065e04bb"
      },
      "execution_count": null,
      "outputs": [
        {
          "output_type": "execute_result",
          "data": {
            "text/plain": [
              "<tf.Tensor: shape=(100,), dtype=int64, numpy=\n",
              "array([ 165,   46,   66,    1,   65,   31, 3150, 3813,    0,    0,    0,\n",
              "          0,    0,    0,    0,    0,    0,    0,    0,    0,    0,    0,\n",
              "          0,    0,    0,    0,    0,    0,    0,    0,    0,    0,    0,\n",
              "          0,    0,    0,    0,    0,    0,    0,    0,    0,    0,    0,\n",
              "          0,    0,    0,    0,    0,    0,    0,    0,    0,    0,    0,\n",
              "          0,    0,    0,    0,    0,    0,    0,    0,    0,    0,    0,\n",
              "          0,    0,    0,    0,    0,    0,    0,    0,    0,    0,    0,\n",
              "          0,    0,    0,    0,    0,    0,    0,    0,    0,    0,    0,\n",
              "          0,    0,    0,    0,    0,    0,    0,    0,    0,    0,    0,\n",
              "          0])>"
            ]
          },
          "metadata": {},
          "execution_count": 8
        }
      ]
    },
    {
      "cell_type": "code",
      "source": [
        "input = Input(shape=(1,), dtype=tf.string)\n",
        "x = vectorize_layer(input)\n",
        "x = Embedding(vectorize_layer.vocabulary_size(), EMBEDDING_DIM, input_length=MAXLEN)(x)\n",
        "x = Flatten()(x)\n",
        "x = Dense(64, activation='relu')(x)\n",
        "x = Dense(5, activation='softmax')(x)\n",
        "\n",
        "classifier = Model(input, x)\n",
        "adam = tf.keras.optimizers.Adam(learning_rate=0.001)\n",
        "classifier.compile(loss='sparse_categorical_crossentropy',\n",
        "                   optimizer=adam,\n",
        "                   metrics=['sparse_categorical_accuracy'])\n",
        "classifier.summary()"
      ],
      "metadata": {
        "colab": {
          "base_uri": "https://localhost:8080/"
        },
        "id": "rj0TssFw2SXf",
        "outputId": "fd107519-13d9-4ef8-a247-af26e57bdab0"
      },
      "execution_count": null,
      "outputs": [
        {
          "output_type": "stream",
          "name": "stdout",
          "text": [
            "Model: \"model\"\n",
            "_________________________________________________________________\n",
            " Layer (type)                Output Shape              Param #   \n",
            "=================================================================\n",
            " input_1 (InputLayer)        [(None, 1)]               0         \n",
            "                                                                 \n",
            " text_vectorization (TextVe  (None, 100)               0         \n",
            " ctorization)                                                    \n",
            "                                                                 \n",
            " embedding (Embedding)       (None, 100, 7)            35000     \n",
            "                                                                 \n",
            " flatten (Flatten)           (None, 700)               0         \n",
            "                                                                 \n",
            " dense (Dense)               (None, 64)                44864     \n",
            "                                                                 \n",
            " dense_1 (Dense)             (None, 5)                 325       \n",
            "                                                                 \n",
            "=================================================================\n",
            "Total params: 80189 (313.24 KB)\n",
            "Trainable params: 80189 (313.24 KB)\n",
            "Non-trainable params: 0 (0.00 Byte)\n",
            "_________________________________________________________________\n"
          ]
        }
      ]
    },
    {
      "cell_type": "code",
      "source": [
        "input_text = tf.constant([\"A FAST PACED , FIRST RATE MUST READ STORY!!!\"])\n",
        "classifier.predict(input_text)"
      ],
      "metadata": {
        "colab": {
          "base_uri": "https://localhost:8080/"
        },
        "id": "-NCZEEXP57Bp",
        "outputId": "8bd35638-8812-4250-9a5a-5e85a9332242"
      },
      "execution_count": null,
      "outputs": [
        {
          "output_type": "stream",
          "name": "stdout",
          "text": [
            "1/1 [==============================] - 1s 640ms/step\n"
          ]
        },
        {
          "output_type": "execute_result",
          "data": {
            "text/plain": [
              "array([[0.1941649 , 0.20910424, 0.19661106, 0.19958235, 0.20053746]],\n",
              "      dtype=float32)"
            ]
          },
          "metadata": {},
          "execution_count": 10
        }
      ]
    },
    {
      "cell_type": "code",
      "source": [
        "classifier.evaluate(test_ds)"
      ],
      "metadata": {
        "colab": {
          "base_uri": "https://localhost:8080/"
        },
        "id": "yIutF4TYpPgE",
        "outputId": "2a9b7e53-37a0-4d11-9bca-1a50bf253785"
      },
      "execution_count": null,
      "outputs": [
        {
          "output_type": "stream",
          "name": "stdout",
          "text": [
            "400/400 [==============================] - 9s 19ms/step - loss: 1.6097 - sparse_categorical_accuracy: 0.1980\n"
          ]
        },
        {
          "output_type": "execute_result",
          "data": {
            "text/plain": [
              "[1.6097402572631836, 0.1979687511920929]"
            ]
          },
          "metadata": {},
          "execution_count": 11
        }
      ]
    },
    {
      "cell_type": "code",
      "source": [
        "history = classifier.fit(train_ds, validation_data=[val_ds], epochs=40)"
      ],
      "metadata": {
        "id": "6BsRztrCbc2Z",
        "colab": {
          "base_uri": "https://localhost:8080/"
        },
        "outputId": "2cbe6fee-20b0-4559-ad38-320a159dc470"
      },
      "execution_count": null,
      "outputs": [
        {
          "output_type": "stream",
          "name": "stdout",
          "text": [
            "Epoch 1/40\n",
            "4000/4000 [==============================] - 112s 27ms/step - loss: 1.2999 - sparse_categorical_accuracy: 0.4302 - val_loss: 1.2962 - val_sparse_categorical_accuracy: 0.4487\n",
            "Epoch 2/40\n",
            "4000/4000 [==============================] - 92s 23ms/step - loss: 1.2026 - sparse_categorical_accuracy: 0.4851 - val_loss: 1.2649 - val_sparse_categorical_accuracy: 0.4641\n",
            "Epoch 3/40\n",
            "4000/4000 [==============================] - 98s 24ms/step - loss: 1.1668 - sparse_categorical_accuracy: 0.5028 - val_loss: 1.2325 - val_sparse_categorical_accuracy: 0.4823\n",
            "Epoch 4/40\n",
            "4000/4000 [==============================] - 91s 22ms/step - loss: 1.1389 - sparse_categorical_accuracy: 0.5167 - val_loss: 1.1993 - val_sparse_categorical_accuracy: 0.4941\n",
            "Epoch 5/40\n",
            "4000/4000 [==============================] - 86s 21ms/step - loss: 1.1167 - sparse_categorical_accuracy: 0.5268 - val_loss: 1.1758 - val_sparse_categorical_accuracy: 0.5052\n",
            "Epoch 6/40\n",
            "4000/4000 [==============================] - 104s 26ms/step - loss: 1.1011 - sparse_categorical_accuracy: 0.5339 - val_loss: 1.1623 - val_sparse_categorical_accuracy: 0.5142\n",
            "Epoch 7/40\n",
            "4000/4000 [==============================] - 84s 21ms/step - loss: 1.0869 - sparse_categorical_accuracy: 0.5404 - val_loss: 1.1540 - val_sparse_categorical_accuracy: 0.5170\n",
            "Epoch 8/40\n",
            "4000/4000 [==============================] - 100s 25ms/step - loss: 1.0767 - sparse_categorical_accuracy: 0.5452 - val_loss: 1.1374 - val_sparse_categorical_accuracy: 0.5257\n",
            "Epoch 9/40\n",
            "4000/4000 [==============================] - 84s 21ms/step - loss: 1.0665 - sparse_categorical_accuracy: 0.5494 - val_loss: 1.1371 - val_sparse_categorical_accuracy: 0.5231\n",
            "Epoch 10/40\n",
            "4000/4000 [==============================] - 97s 24ms/step - loss: 1.0582 - sparse_categorical_accuracy: 0.5534 - val_loss: 1.1166 - val_sparse_categorical_accuracy: 0.5363\n",
            "Epoch 11/40\n",
            "4000/4000 [==============================] - 85s 21ms/step - loss: 1.0504 - sparse_categorical_accuracy: 0.5576 - val_loss: 1.1092 - val_sparse_categorical_accuracy: 0.5353\n",
            "Epoch 12/40\n",
            "4000/4000 [==============================] - 88s 22ms/step - loss: 1.0425 - sparse_categorical_accuracy: 0.5602 - val_loss: 1.1005 - val_sparse_categorical_accuracy: 0.5428\n",
            "Epoch 13/40\n",
            "4000/4000 [==============================] - 100s 25ms/step - loss: 1.0355 - sparse_categorical_accuracy: 0.5647 - val_loss: 1.0934 - val_sparse_categorical_accuracy: 0.5429\n",
            "Epoch 14/40\n",
            "4000/4000 [==============================] - 88s 22ms/step - loss: 1.0304 - sparse_categorical_accuracy: 0.5667 - val_loss: 1.1019 - val_sparse_categorical_accuracy: 0.5459\n",
            "Epoch 15/40\n",
            "4000/4000 [==============================] - 96s 24ms/step - loss: 1.0238 - sparse_categorical_accuracy: 0.5701 - val_loss: 1.0871 - val_sparse_categorical_accuracy: 0.5501\n",
            "Epoch 16/40\n",
            "4000/4000 [==============================] - 86s 21ms/step - loss: 1.0176 - sparse_categorical_accuracy: 0.5724 - val_loss: 1.0737 - val_sparse_categorical_accuracy: 0.5580\n",
            "Epoch 17/40\n",
            "4000/4000 [==============================] - 88s 22ms/step - loss: 1.0128 - sparse_categorical_accuracy: 0.5747 - val_loss: 1.0691 - val_sparse_categorical_accuracy: 0.5601\n",
            "Epoch 18/40\n",
            "4000/4000 [==============================] - 88s 22ms/step - loss: 1.0065 - sparse_categorical_accuracy: 0.5783 - val_loss: 1.0781 - val_sparse_categorical_accuracy: 0.5575\n",
            "Epoch 19/40\n",
            "4000/4000 [==============================] - 84s 21ms/step - loss: 1.0024 - sparse_categorical_accuracy: 0.5811 - val_loss: 1.0587 - val_sparse_categorical_accuracy: 0.5635\n",
            "Epoch 20/40\n",
            "4000/4000 [==============================] - 95s 24ms/step - loss: 0.9972 - sparse_categorical_accuracy: 0.5832 - val_loss: 1.0694 - val_sparse_categorical_accuracy: 0.5628\n",
            "Epoch 21/40\n",
            "4000/4000 [==============================] - 86s 21ms/step - loss: 0.9930 - sparse_categorical_accuracy: 0.5851 - val_loss: 1.0643 - val_sparse_categorical_accuracy: 0.5640\n",
            "Epoch 22/40\n",
            "4000/4000 [==============================] - 97s 24ms/step - loss: 0.9880 - sparse_categorical_accuracy: 0.5864 - val_loss: 1.0499 - val_sparse_categorical_accuracy: 0.5715\n",
            "Epoch 23/40\n",
            "4000/4000 [==============================] - 83s 21ms/step - loss: 0.9839 - sparse_categorical_accuracy: 0.5889 - val_loss: 1.0463 - val_sparse_categorical_accuracy: 0.5678\n",
            "Epoch 24/40\n",
            "4000/4000 [==============================] - 87s 22ms/step - loss: 0.9802 - sparse_categorical_accuracy: 0.5910 - val_loss: 1.0429 - val_sparse_categorical_accuracy: 0.5713\n",
            "Epoch 25/40\n",
            "4000/4000 [==============================] - 85s 21ms/step - loss: 0.9761 - sparse_categorical_accuracy: 0.5932 - val_loss: 1.0452 - val_sparse_categorical_accuracy: 0.5684\n",
            "Epoch 26/40\n",
            "4000/4000 [==============================] - 85s 21ms/step - loss: 0.9740 - sparse_categorical_accuracy: 0.5946 - val_loss: 1.0241 - val_sparse_categorical_accuracy: 0.5784\n",
            "Epoch 27/40\n",
            "4000/4000 [==============================] - 85s 21ms/step - loss: 0.9685 - sparse_categorical_accuracy: 0.5972 - val_loss: 1.0231 - val_sparse_categorical_accuracy: 0.5809\n",
            "Epoch 28/40\n",
            "4000/4000 [==============================] - 97s 24ms/step - loss: 0.9658 - sparse_categorical_accuracy: 0.5975 - val_loss: 1.0410 - val_sparse_categorical_accuracy: 0.5730\n",
            "Epoch 29/40\n",
            "4000/4000 [==============================] - 87s 21ms/step - loss: 0.9617 - sparse_categorical_accuracy: 0.5990 - val_loss: 1.0227 - val_sparse_categorical_accuracy: 0.5767\n",
            "Epoch 30/40\n",
            "4000/4000 [==============================] - 100s 25ms/step - loss: 0.9584 - sparse_categorical_accuracy: 0.6014 - val_loss: 1.0225 - val_sparse_categorical_accuracy: 0.5820\n",
            "Epoch 31/40\n",
            "4000/4000 [==============================] - 84s 21ms/step - loss: 0.9548 - sparse_categorical_accuracy: 0.6027 - val_loss: 1.0317 - val_sparse_categorical_accuracy: 0.5786\n",
            "Epoch 32/40\n",
            "4000/4000 [==============================] - 97s 24ms/step - loss: 0.9527 - sparse_categorical_accuracy: 0.6040 - val_loss: 1.0178 - val_sparse_categorical_accuracy: 0.5842\n",
            "Epoch 33/40\n",
            "4000/4000 [==============================] - 83s 21ms/step - loss: 0.9499 - sparse_categorical_accuracy: 0.6049 - val_loss: 1.0180 - val_sparse_categorical_accuracy: 0.5842\n",
            "Epoch 34/40\n",
            "4000/4000 [==============================] - 99s 25ms/step - loss: 0.9479 - sparse_categorical_accuracy: 0.6070 - val_loss: 1.0258 - val_sparse_categorical_accuracy: 0.5788\n",
            "Epoch 35/40\n",
            "4000/4000 [==============================] - 83s 20ms/step - loss: 0.9448 - sparse_categorical_accuracy: 0.6076 - val_loss: 1.0017 - val_sparse_categorical_accuracy: 0.5903\n",
            "Epoch 36/40\n",
            "4000/4000 [==============================] - 93s 23ms/step - loss: 0.9425 - sparse_categorical_accuracy: 0.6089 - val_loss: 1.0147 - val_sparse_categorical_accuracy: 0.5764\n",
            "Epoch 37/40\n",
            "4000/4000 [==============================] - 86s 21ms/step - loss: 0.9412 - sparse_categorical_accuracy: 0.6093 - val_loss: 1.0104 - val_sparse_categorical_accuracy: 0.5866\n",
            "Epoch 38/40\n",
            "4000/4000 [==============================] - 97s 24ms/step - loss: 0.9383 - sparse_categorical_accuracy: 0.6110 - val_loss: 1.0203 - val_sparse_categorical_accuracy: 0.5782\n",
            "Epoch 39/40\n",
            "4000/4000 [==============================] - 89s 22ms/step - loss: 0.9357 - sparse_categorical_accuracy: 0.6119 - val_loss: 0.9951 - val_sparse_categorical_accuracy: 0.5893\n",
            "Epoch 40/40\n",
            "4000/4000 [==============================] - 100s 25ms/step - loss: 0.9335 - sparse_categorical_accuracy: 0.6130 - val_loss: 0.9936 - val_sparse_categorical_accuracy: 0.5891\n"
          ]
        }
      ]
    },
    {
      "cell_type": "code",
      "source": [
        "def plot_graphs(history, metric):\n",
        "    plt.plot(history.history[metric])\n",
        "    plt.plot(history.history[f'val_{metric}'])\n",
        "    plt.xlabel(\"Epochs\")\n",
        "    plt.ylabel(metric)\n",
        "    plt.legend([metric, f'val_{metric}'])\n",
        "    plt.show()\n",
        "\n",
        "plot_graphs(history, \"loss\")\n",
        "plot_graphs(history, \"sparse_categorical_accuracy\")"
      ],
      "metadata": {
        "colab": {
          "base_uri": "https://localhost:8080/",
          "height": 881
        },
        "id": "nDZtrRbwKD3u",
        "outputId": "b617d3f6-b753-4dc8-c56f-e90def773b62"
      },
      "execution_count": null,
      "outputs": [
        {
          "output_type": "display_data",
          "data": {
            "text/plain": [
              "<Figure size 640x480 with 1 Axes>"
            ],
            "image/png": "[encoded data removed]"
          },
          "metadata": {}
        },
        {
          "output_type": "display_data",
          "data": {
            "text/plain": [
              "<Figure size 640x480 with 1 Axes>"
            ],
            "image/png": "[encoded data removed]"
          },
          "metadata": {}
        }
      ]
    },
    {
      "cell_type": "code",
      "source": [
        "classifier.predict([\"A FAST PACED , FIRST RATE MUST READ STORY!!!\"])"
      ],
      "metadata": {
        "colab": {
          "base_uri": "https://localhost:8080/"
        },
        "id": "lFsNKNL999_k",
        "outputId": "998ebf24-9221-41a5-bab9-df3283aa4c02"
      },
      "execution_count": null,
      "outputs": [
        {
          "output_type": "stream",
          "name": "stdout",
          "text": [
            "1/1 [==============================] - 0s 77ms/step\n"
          ]
        },
        {
          "output_type": "execute_result",
          "data": {
            "text/plain": [
              "array([[1.3618202e-04, 3.6028908e-03, 3.1957824e-03, 2.9381609e-01,\n",
              "        6.9924909e-01]], dtype=float32)"
            ]
          },
          "metadata": {},
          "execution_count": 14
        }
      ]
    },
    {
      "cell_type": "code",
      "source": [
        "classifier.evaluate(test_ds)"
      ],
      "metadata": {
        "colab": {
          "base_uri": "https://localhost:8080/"
        },
        "id": "Lqs6jodd-Fhb",
        "outputId": "3e222b72-7c0c-436a-f5af-de1d1cf6de19"
      },
      "execution_count": null,
      "outputs": [
        {
          "output_type": "stream",
          "name": "stdout",
          "text": [
            "400/400 [==============================] - 9s 21ms/step - loss: 0.9973 - sparse_categorical_accuracy: 0.5876\n"
          ]
        },
        {
          "output_type": "execute_result",
          "data": {
            "text/plain": [
              "[0.9972822666168213, 0.5875781178474426]"
            ]
          },
          "metadata": {},
          "execution_count": 15
        }
      ]
    },
    {
      "cell_type": "code",
      "source": [
        "classifier.save('amazon_book_reviews_simple.keras')"
      ],
      "metadata": {
        "id": "_AWo8cUWhV4O"
      },
      "execution_count": null,
      "outputs": []
    },
    {
      "cell_type": "code",
      "source": [
        "amazon_model = tf.keras.models.load_model('amazon_book_reviews_simple.keras')\n"
      ],
      "metadata": {
        "id": "5X-THidjVQKW"
      },
      "execution_count": null,
      "outputs": []
    },
    {
      "cell_type": "code",
      "source": [
        "amazon_model.predict([\"A FAST PACED , FIRST RATE MUST READ STORY!!!\"])"
      ],
      "metadata": {
        "colab": {
          "base_uri": "https://localhost:8080/"
        },
        "id": "jyLR65dkVYzV",
        "outputId": "f801e3f2-a048-4e48-f7a0-445588e6e234"
      },
      "execution_count": null,
      "outputs": [
        {
          "output_type": "stream",
          "name": "stdout",
          "text": [
            "1/1 [==============================] - 0s 115ms/step\n"
          ]
        },
        {
          "output_type": "execute_result",
          "data": {
            "text/plain": [
              "array([[1.3618202e-04, 3.6028908e-03, 3.1957824e-03, 2.9381609e-01,\n",
              "        6.9924909e-01]], dtype=float32)"
            ]
          },
          "metadata": {},
          "execution_count": 18
        }
      ]
    }
  ]
}